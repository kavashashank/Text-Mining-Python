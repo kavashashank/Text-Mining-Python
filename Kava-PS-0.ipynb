{
 "cells": [
  {
   "cell_type": "markdown",
   "metadata": {},
   "source": [
    "# Problem Set 0\n",
    "The goal of this homework is to give you some exercise with python. You should have already completed the Codecademy python course before continuing. The tutorials listed as homework on the syllabus will also prepare you to complete this homework. "
   ]
  },
  {
   "cell_type": "markdown",
   "metadata": {},
   "source": [
    "### 1. Store your first name and last name in separate string variables and then concatenate and print our your full name. "
   ]
  },
  {
   "cell_type": "code",
   "execution_count": 15,
   "metadata": {
    "collapsed": false
   },
   "outputs": [
    {
     "name": "stdout",
     "output_type": "stream",
     "text": [
      "Shashank Kava\n"
     ]
    }
   ],
   "source": [
    "#Assign value to the variable and print the value\n",
    "name = \"Shashank\"\n",
    "last_name = \"Kava\"\n",
    "print name,last_name"
   ]
  },
  {
   "cell_type": "markdown",
   "metadata": {},
   "source": [
    "### 2. Print out the correct value of fifteen divided by seven. "
   ]
  },
  {
   "cell_type": "code",
   "execution_count": 16,
   "metadata": {
    "collapsed": false
   },
   "outputs": [
    {
     "name": "stdout",
     "output_type": "stream",
     "text": [
      "2.14285714286\n"
     ]
    }
   ],
   "source": [
    "corr_val=15.0/7\n",
    "print corr_val"
   ]
  },
  {
   "cell_type": "markdown",
   "metadata": {},
   "source": [
    "### 3. Below you are given a list of professors in the College of Journalism. Print out each name on a new line by looping through the list. "
   ]
  },
  {
   "cell_type": "code",
   "execution_count": 17,
   "metadata": {
    "collapsed": false
   },
   "outputs": [],
   "source": [
    "professors = [\"Blackistone\", \"Bettag\", \"Banisky\", \"Yaros\", \"Chinoy\", \"Feldstein\", \"Diakopoulos\", \"Hanson\", \"Klose\", \"Moeller\", \"Solomon\", \"Stepp\", \"Priest\", \"Oates\", \"Nelson\", \"Steiner\", \"Chadha\"]"
   ]
  },
  {
   "cell_type": "code",
   "execution_count": 18,
   "metadata": {
    "collapsed": false
   },
   "outputs": [
    {
     "name": "stdout",
     "output_type": "stream",
     "text": [
      "Blackistone\n",
      "Bettag\n",
      "Banisky\n",
      "Yaros\n",
      "Chinoy\n",
      "Feldstein\n",
      "Diakopoulos\n",
      "Hanson\n",
      "Klose\n",
      "Moeller\n",
      "Solomon\n",
      "Stepp\n",
      "Priest\n",
      "Oates\n",
      "Nelson\n",
      "Steiner\n",
      "Chadha\n"
     ]
    }
   ],
   "source": [
    "#Traverse the length of the list professors using for loop and print each element in the list\n",
    "for i in range(len(professors)):\n",
    "    print professors[i]\n",
    "    "
   ]
  },
  {
   "cell_type": "markdown",
   "metadata": {},
   "source": [
    "### 4. Sort the list of professors alphabetically and print it out again. "
   ]
  },
  {
   "cell_type": "code",
   "execution_count": 19,
   "metadata": {
    "collapsed": false
   },
   "outputs": [
    {
     "name": "stdout",
     "output_type": "stream",
     "text": [
      "Banisky\n",
      "Bettag\n",
      "Blackistone\n",
      "Chadha\n",
      "Chinoy\n",
      "Diakopoulos\n",
      "Feldstein\n",
      "Hanson\n",
      "Klose\n",
      "Moeller\n",
      "Nelson\n",
      "Oates\n",
      "Priest\n",
      "Solomon\n",
      "Steiner\n",
      "Stepp\n",
      "Yaros\n"
     ]
    }
   ],
   "source": [
    "#Use the sort function to sort elements in the list\n",
    "professors.sort()\n",
    "\n",
    "for i in range(len(professors)):\n",
    "    print professors[i]"
   ]
  },
  {
   "cell_type": "markdown",
   "metadata": {},
   "source": [
    "### 5. Remove the 6th professor's name from the *sorted* list, also remove \"Klose\" from the list using the `remove()` function, then print the list out again."
   ]
  },
  {
   "cell_type": "code",
   "execution_count": 20,
   "metadata": {
    "collapsed": false
   },
   "outputs": [
    {
     "data": {
      "text/plain": [
       "['Banisky',\n",
       " 'Bettag',\n",
       " 'Blackistone',\n",
       " 'Chadha',\n",
       " 'Chinoy',\n",
       " 'Feldstein',\n",
       " 'Hanson',\n",
       " 'Moeller',\n",
       " 'Nelson',\n",
       " 'Oates',\n",
       " 'Priest',\n",
       " 'Solomon',\n",
       " 'Steiner',\n",
       " 'Stepp',\n",
       " 'Yaros']"
      ]
     },
     "execution_count": 20,
     "metadata": {},
     "output_type": "execute_result"
    }
   ],
   "source": [
    "#Use del to delete element in a list at a particular position\n",
    "del professors[5]\n",
    "\n",
    "#Use remove to delete element in a list having a known value\n",
    "professors.remove('Klose')\n",
    "\n",
    "professors"
   ]
  },
  {
   "cell_type": "markdown",
   "metadata": {},
   "source": [
    "### 6. Print out just the 3rd through 5th names in the sorted list."
   ]
  },
  {
   "cell_type": "code",
   "execution_count": 21,
   "metadata": {
    "collapsed": false
   },
   "outputs": [
    {
     "name": "stdout",
     "output_type": "stream",
     "text": [
      "['Blackistone', 'Chadha', 'Chinoy']\n"
     ]
    }
   ],
   "source": [
    "print professors[2:5]"
   ]
  },
  {
   "cell_type": "markdown",
   "metadata": {},
   "source": [
    "### 7. Use a list comprehension to make all of the names in the professors list lower case. Print that lowercased list out. "
   ]
  },
  {
   "cell_type": "code",
   "execution_count": 22,
   "metadata": {
    "collapsed": false
   },
   "outputs": [
    {
     "data": {
      "text/plain": [
       "['banisky',\n",
       " 'bettag',\n",
       " 'blackistone',\n",
       " 'chadha',\n",
       " 'chinoy',\n",
       " 'feldstein',\n",
       " 'hanson',\n",
       " 'moeller',\n",
       " 'nelson',\n",
       " 'oates',\n",
       " 'priest',\n",
       " 'solomon',\n",
       " 'steiner',\n",
       " 'stepp',\n",
       " 'yaros']"
      ]
     },
     "execution_count": 22,
     "metadata": {},
     "output_type": "execute_result"
    }
   ],
   "source": [
    "#Use the lower function to convert elements in a list to lower case\n",
    "prof_lc = [element.lower() for element in professors]\n",
    "\n",
    "prof_lc"
   ]
  },
  {
   "cell_type": "markdown",
   "metadata": {},
   "source": [
    "### 8. Create a function that writes a headline for a breaking news alert about an earthquake according to the following criteria:\n",
    "- Function should take in at least two parameters, one for the earthquakes magnitude, and one for the location of the earthquake. \n",
    "- The function should use these parameters in writing the headline. \n",
    "- Use the headline function to write three hypothetical headlines for different earthquakes. "
   ]
  },
  {
   "cell_type": "code",
   "execution_count": 23,
   "metadata": {
    "collapsed": false
   },
   "outputs": [
    {
     "name": "stdout",
     "output_type": "stream",
     "text": [
      "Earthquake: 3.9 quake strikes near Santa Clarita\n",
      "Earthquake: 5.6 quake strikes near Enid\n",
      "Earthquake: 7.5 quake strikes near Ridgemark\n"
     ]
    }
   ],
   "source": [
    "#Define a parameterized function using def command\n",
    "def headline(eq_magnitude,eq_location):\n",
    "    print \"Earthquake:\",eq_magnitude,\"quake strikes near\",eq_location\n",
    "\n",
    "headline(3.9,\"Santa Clarita\")\n",
    "headline(5.6,\"Enid\")\n",
    "headline(7.5,\"Ridgemark\")\n"
   ]
  },
  {
   "cell_type": "markdown",
   "metadata": {},
   "source": [
    "### 9. Extend your earthquake headline writing function to use if statements so that the headlines differ depending on the magnitude of the quake.\n",
    "- Have at least two versions of the headline depending on the magnitude.\n",
    "- Use the new headline function to write three hypothetical headlines for different earthquakes of different magnitudes."
   ]
  },
  {
   "cell_type": "code",
   "execution_count": 24,
   "metadata": {
    "collapsed": false
   },
   "outputs": [
    {
     "name": "stdout",
     "output_type": "stream",
     "text": [
      "Earthquake of magnitude 2.9 felt in Santa Clarita\n",
      "Earthquake: 5.0 quake strikes near Enid\n",
      "Powerful earthquake with magnitude 7.5 strikes Ridgemark\n"
     ]
    }
   ],
   "source": [
    "#Use the if else conditional loop\n",
    "def headline_mod(eq_magnitude,eq_location):\n",
    "    if eq_magnitude <= 3:\n",
    "        print \"Earthquake of magnitude\",eq_magnitude,\"felt in\",eq_location\n",
    "    elif eq_magnitude <= 5:\n",
    "        print \"Earthquake:\",eq_magnitude,\"quake strikes near\",eq_location\n",
    "    else:\n",
    "        print \"Powerful earthquake with magnitude\",eq_magnitude,\"strikes\",eq_location\n",
    "\n",
    "headline_mod(2.9,\"Santa Clarita\")\n",
    "headline_mod(5.0,\"Enid\")\n",
    "headline_mod(7.5,\"Ridgemark\")\n",
    "\n",
    "    "
   ]
  }
 ],
 "metadata": {
  "anaconda-cloud": {},
  "kernelspec": {
   "display_name": "Python [default]",
   "language": "python",
   "name": "python2"
  },
  "language_info": {
   "codemirror_mode": {
    "name": "ipython",
    "version": 2
   },
   "file_extension": ".py",
   "mimetype": "text/x-python",
   "name": "python",
   "nbconvert_exporter": "python",
   "pygments_lexer": "ipython2",
   "version": "2.7.12"
  }
 },
 "nbformat": 4,
 "nbformat_minor": 0
}
