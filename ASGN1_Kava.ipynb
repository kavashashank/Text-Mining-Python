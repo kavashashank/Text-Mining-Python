{
 "cells": [
  {
   "cell_type": "markdown",
   "metadata": {},
   "source": [
    "# Assignment 1 - Automated News Writing\n",
    "\n",
    "This skeleton notebook offers some helper functions and some example template writing code that you may find helpful to producing and testing your automated story writing algorithm. \n",
    "\n",
    "The data for this assignment can be [downloaded here](https://github.com/comp-journalism/UMD-J479V-J779V-Spring2017/raw/master/Data/fatal-police-shootings-2015-16.csv). It contains fatal police shootings tracked by the Washington Post, but has been filtered to include only data from 2015 and 2016. More context on the original dataset can be found [here](https://github.com/washingtonpost/data-police-shootings) and on the methodology [here](https://www.washingtonpost.com/national/how-the-washington-post-is-examining-police-shootings-in-the-united-states/2016/07/07/d9c52238-43ad-11e6-8856-f26de2537a9d_story.html?utm_term=.9583e14255cc#comments)\n",
    "\n",
    "The data includes the following fields: \n",
    "- id\n",
    "- name\n",
    "- date (in format YYYY-MM-DD)\n",
    "- manner_of_death (i.e., \"shot\")\n",
    "- armed (i.e., unarmed or what type of weapon)\n",
    "- age\n",
    "- gender (\"M\" or \"F\")\n",
    "- race (\"A\" = asian; \"W\" = white; \"H\" = hispanic; \"B\" = black; \"N\" = native american; \"O\" = other race)\n",
    "- city\n",
    "- state\n",
    "- signs_of_mental_illness (was person fatally shot showing signs of mental illness, True or False)\n",
    "- threat_level (\"attack\", \"other\", \"undetermined\")\n",
    "- flee (\"Not fleeing\", \"Car\", \"Foot\", \"Other\")\n",
    "- body_camera (was police office wearing a body camera, True or False)\n"
   ]
  },
  {
   "cell_type": "markdown",
   "metadata": {},
   "source": [
    "### Getting Started with Jinja\n",
    "Jinja is a template engine that can be used to take your data and writing structure and output various text files. Often it is used to generate HTML pages for the web, but here we'll use it to generate textual news stories. \n",
    "\n",
    "You should read the [Jinja documentation on templates](http://jinja.pocoo.org/docs/dev/templates/) before getting started. The next cells show some basic examples to get you thinking in the right direction. "
   ]
  },
  {
   "cell_type": "code",
   "execution_count": 2,
   "metadata": {
    "collapsed": true
   },
   "outputs": [],
   "source": [
    "import pandas as pd\n",
    "import jinja2 as jj\n",
    "import numpy as np\n",
    "from datetime import datetime"
   ]
  },
  {
   "cell_type": "code",
   "execution_count": 119,
   "metadata": {
    "collapsed": false
   },
   "outputs": [
    {
     "name": "stdout",
     "output_type": "stream",
     "text": [
      "Hello World.\n",
      "Hello Professor Diakopoulos.\n"
     ]
    }
   ],
   "source": [
    "# A template is a string that when rendered by Jinja outputs some text. \n",
    "# In the next template the double curly brackets indicate there is a variable that will get substituted there. \n",
    "template = jj.Template(\"Hello {{ variable }}.\")\n",
    "\n",
    "# To actually render the template we do this, which will output the final text. See how it substituted the value of the variable?\n",
    "print template.render(variable=\"World\")\n",
    "    \n",
    "# I could pass a different value of the variable as a parameter\n",
    "print template.render(variable=\"Professor Diakopoulos\")"
   ]
  },
  {
   "cell_type": "markdown",
   "metadata": {},
   "source": [
    "**Filters & Synsets**  \n",
    "Jinja also has the concept of filters, which modify the variables before they are rendered. They are indicated with the pipe symbol \"|\" followed by the name of the filter in the template string. The set of possible filters is listed [here in the documentation](http://jinja.pocoo.org/docs/dev/templates/#builtin-filters). Filters that may be useful for this assignment include:\n",
    "- round (for rounding off numbers)\n",
    "- random (for randomly selecting a value from a list variable)\n",
    "- title (for converting to title case, e.g. for the start of a sentence)"
   ]
  },
  {
   "cell_type": "code",
   "execution_count": 120,
   "metadata": {
    "collapsed": false
   },
   "outputs": [
    {
     "name": "stdout",
     "output_type": "stream",
     "text": [
      "Hello professor diakopoulos.\n"
     ]
    }
   ],
   "source": [
    "# To apply a filter that lower cases the text in the variable I can add \"| lower\" to the template. See how even though the variable is in capital case, the filter converts it to lowercase when rendered?\n",
    "template = jj.Template(\"Hello {{ variable | lower }}.\")\n",
    "print template.render(variable=\"Professor Diakopoulos\")"
   ]
  },
  {
   "cell_type": "code",
   "execution_count": 121,
   "metadata": {
    "collapsed": false
   },
   "outputs": [
    {
     "name": "stdout",
     "output_type": "stream",
     "text": [
      "Hello Prof Diakopoulos.\n"
     ]
    }
   ],
   "source": [
    "# We could use a filter to randomly select from a synset that we author. Note that each time you run this code it may output a different random selection from the synset. \n",
    "synset = [\"Prof\", \"Dr.\", \"Professor\"]\n",
    "template = jj.Template(\"Hello {{ variable_title | random }} {{ variable_name }}.\")\n",
    "print template.render(variable_title=synset, variable_name=\"Diakopoulos\")"
   ]
  },
  {
   "cell_type": "markdown",
   "metadata": {},
   "source": [
    "**Conditionals **  \n",
    "You'll most likely need \"if\" statements in order to output different types of text based on different values."
   ]
  },
  {
   "cell_type": "code",
   "execution_count": 122,
   "metadata": {
    "collapsed": false
   },
   "outputs": [
    {
     "name": "stdout",
     "output_type": "stream",
     "text": [
      "Today there was a medium size earthquake. \n",
      "\n",
      "It had a magnitude of 4.0.\n"
     ]
    }
   ],
   "source": [
    "# Note the template string is spread across multiple lines only to make it easier to read. As a result the \"\\\" character is added to the end of a line so that python knows the same variable continues on to the next line. To make a multi-line string we use a triple quote at the beginning and ending of the string. \n",
    "template_string = \"\"\"Today there was a \\\n",
    "{% if earthquake_size <= 3.0 %}\\\n",
    "small\\\n",
    "{% elif earthquake_size <= 5 and earthquake_size > 3.0 %}\\\n",
    "medium\\\n",
    "{% else %}\\\n",
    "large\\\n",
    "{% endif %}\\\n",
    " size earthquake. \\n\n",
    "It had a magnitude of {{ earthquake_size }}.\"\"\"\n",
    "\n",
    "template = jj.Template(template_string)\n",
    "print template.render(earthquake_size = 4.0)"
   ]
  },
  {
   "cell_type": "code",
   "execution_count": 4,
   "metadata": {
    "collapsed": true
   },
   "outputs": [],
   "source": [
    "df = pd.read_csv(\"Datasets/fatal-police-shootings-2015-16.csv\")\n",
    "row_num = 100 # change this value to test with a different row of data\n",
    "row_as_dict = df.iloc[row_num].to_dict()"
   ]
  },
  {
   "cell_type": "code",
   "execution_count": 7,
   "metadata": {
    "collapsed": false
   },
   "outputs": [],
   "source": [
    "from decimal import *\n",
    "\n",
    "df_racegrouped=df.groupby(\"race\").size()\n",
    "\n",
    "df_race=df['race'].replace('', np.nan)\n",
    "df_race.dropna(inplace=True)\n",
    "\n",
    "total_race=len(df_race)\n",
    "white_race=df_racegrouped[\"W\"]\n",
    "black_race=df_racegrouped[\"B\"]\n",
    "\n",
    "white_percent=float(\"{0:.2f}\".format(white_race/Decimal(total_race)*100))\n",
    "black_percent=float(\"{0:.2f}\".format(black_race/Decimal(total_race)*100))\n"
   ]
  },
  {
   "cell_type": "code",
   "execution_count": 8,
   "metadata": {
    "collapsed": false
   },
   "outputs": [],
   "source": [
    "count_15=len(df[(df['age'] >= 25) & (df['age'] <= 50)])\n",
    "count_total=len(df)\n",
    "\n",
    "\n",
    "mean_age=float(\"{0:.2f}\".format(df[\"age\"].mean()))\n",
    "ratio_age= count_15/Decimal(count_total)*100\n",
    "ratio_age=float(\"{0:.2f}\".format(ratio_age))\n"
   ]
  },
  {
   "cell_type": "code",
   "execution_count": 9,
   "metadata": {
    "collapsed": false
   },
   "outputs": [],
   "source": [
    "df_stategrouped=df.groupby(\"state\").size()\n",
    "max_state=df_stategrouped.argmax()\n",
    "max_count=df_stategrouped.max()"
   ]
  },
  {
   "cell_type": "markdown",
   "metadata": {},
   "source": [
    "### Test Function\n",
    "The following `write_story` function takes as a parameter a row of data from a dataframe. For ease of testing (and grading), implement the `write_story` function so that it returns the story you've created the given row of data. "
   ]
  },
  {
   "cell_type": "code",
   "execution_count": 53,
   "metadata": {
    "collapsed": false
   },
   "outputs": [
    {
     "name": "stdout",
     "output_type": "stream",
     "text": [
      "MAN KILLED IN A FATAL ASSAULT WITH A POLICE OFFICER IN SAN FRANCISCO, CA.\n",
      "POSTED: 2015-01-04, By Shashank Kava.\n",
      "A man has died following a Sunday morning assault between the police and the suspect in CA, San Francisco. The suspect has been identified by civilians in the neighborhood as Matthew Hoffman, a 32 year old white and died before any medical help could arrive at the crime scene.\n",
      "Witnesses present at the crime scene have confirmed that the suspect was armed with a toy weapon. The witnesses also confirmed that the identified suspect was not trying to flee the crime scene when the shots were fired. Further analysis of the incident based on testimonies of the witnesses helped the police department of CA conclude that the suspect assaulted the police office before being shot to death. Based on medical reports obtained from the health center in the city of San Francisco, it was also proven that the suspect was notmentally stable. \n",
      "The Washington Post has managed to maintain a compiling database of every fatal shooting in the United States by a police officer in the line of duty since Jan. 1, 2015. According to this data, 51.53 percent of fatal police shootings were white, while 26.36 percent were black.\n",
      "Statistics show that the average age of civilians killed in the United States in fatal shootings is 36.62. The police department in the state of CA is looking meticulously into these statistics as the count (327) of people killed in fatal shootings is maximum for this state. Washington Post found that civilians between the ages of 25 and 50 formed 64.43 percent of the total population and are more likely to be killed by police than any other demographic.\n"
     ]
    }
   ],
   "source": [
    "def write_story(row):\n",
    "    day = datetime.strptime(row[\"date\"], '%Y-%m-%d').strftime('%A')\n",
    "    \n",
    "    line1 = jj.Template(\"{% if gender_var == 'M' %}MAN {% else %}WOMAN {% endif %}\\\n",
    "KILLED IN A FATAL ASSAULT WITH A POLICE OFFICER IN {{city_var|upper}}, {{state_var|upper}}.\\n\\\n",
    "POSTED: {{date_var}}, By Shashank Kava.\\n\\\n",
    "A {% if gender_var == 'M' %}man{% else %}woman{% endif %} \\\n",
    "has died following a \\\n",
    "{{ day_var }} morning \\\n",
    "{% if arms_var == 'gun' %}shootout{% else %}assault{% endif %} \\\n",
    "between the police and the suspect in {{state_var|upper}}, {{city_var}}. \\\n",
    "The suspect has been identified by civilians in the {{vic_var|random}} as {{name_var}}, a {{age_var|int}} year old \\\n",
    "{%if race_var=='A'%}asian{%elif race_var=='W'%}white{%elif race_var=='H'%}hispanic{%elif race_var=='B'%}black{%elif race_var=='N'%}native american{%else%}of unknown race{%endif%} \\\n",
    "and died before any medical help could arrive at the crime scene.\\n\\\n",
    "{% if bcam_var == False %}\\\n",
    "Witnesses present at the crime scene have confirmed that the suspect was \\\n",
    "\\\n",
    "{%if arms_var=='unarmed'%}unarmed{%elif arms_var=='vehicle'%}unarmed\\\n",
    "{%elif arms_var=='undetermined'%}unarmed{%elif arms_var=='unknown weapon'%}unarmed\\\n",
    "{%elif arms_var==''%}unarmed{% else %}armed with a {{arms_var}}{% endif %}.\\\n",
    "\\\n",
    "{% else %}\\\n",
    "The footage from the officer's body camera confirmed that the suspect was \\\n",
    "\\\n",
    "{%if arms_var=='unarmed'%}unarmed{%elif arms_var=='vehicle'%}unarmed\\\n",
    "{%elif arms_var=='undetermined'%}unarmed{%elif arms_var=='unknown weapon'%}unarmed\\\n",
    "{%elif arms_var==''%}unarmed{% else %}armed with a {{arms_var|lower}}{% endif %}.\\\n",
    "\\\n",
    "{% endif %} \\\n",
    "The witnesses also confirmed that the identified suspect was \\\n",
    "{% if flee_var == 'Not fleeing' %}\\\n",
    "not trying to flee the crime scene\\\n",
    "{%elif flee_var=='Other'%}\\\n",
    "not trying to flee the crime scene\\\n",
    "{%elif flee_var==''%}\\\n",
    "not trying to flee the crime scene\\\n",
    "{% else %}\\\n",
    "trying to flee the crime scene by {{flee_var|lower}}\\\n",
    "{% endif %} when the shots were fired. \\\n",
    "Further analysis of the incident based on \\\n",
    "{%if bcam_var == False %}\\\n",
    "testimonies of the witnesses\\\n",
    "{% else %}\\\n",
    "the body camera's footage\\\n",
    "{% endif %} \\\n",
    "helped the police department of {{state_var|upper}} conclude that the suspect \\\n",
    "{%if attack_var == 'attack'%}\\\n",
    "{{att_var|random}}\\\n",
    "{% else %}\\\n",
    "did not attack\\\n",
    "{% endif %} the police office before being shot to death. \\\n",
    "Based on medical reports obtained from the health center in the city of {{city_var}}, it was also proven that the suspect was \\\n",
    "{%if mental_var == False %}\\\n",
    "\\\n",
    "{% else %}\\\n",
    "not \\\n",
    "{% endif %}mentally stable. \\n\\\n",
    "The Washington Post has managed to maintain a compiling database of every fatal shooting in the United States by a \\\n",
    "police officer in the line of duty since Jan. 1, 2015. \\\n",
    "According to this data, {{white_var}} \\\n",
    "percent of fatal police shootings were white, while {{black_var}} percent were black.\\n\\\n",
    "Statistics show that the average age of civilians killed in the United States in fatal shootings is {{mean_age_var}}. \\\n",
    "The police department in the state of {{max_state_var|upper}} is looking meticulously into these statistics as the \\\n",
    "count ({{max_count_var}}) of people killed in fatal shootings is maximum for this state. \\\n",
    "Washington Post found that civilians between the ages of 25 and 50 formed {{ratio_age_var}} percent of the total \\\n",
    "population and are more likely to be killed by police than any other demographic.\\\n",
    "\"\n",
    "                        )\n",
    "    \n",
    "    return line1.render(day_var=day,gender_var=row[\"gender\"],arms_var=row[\"armed\"],state_var=row[\"state\"],city_var=row[\"city\"],\n",
    "                        name_var=row[\"name\"],age_var=row[\"age\"],race_var=row[\"race\"],date_var=row[\"date\"],flee_var=row[\"flee\"],\n",
    "                        attack_var=row[\"threat_level\"],mental_var=row[\"signs_of_mental_illness\"],bcam_var=row[\"body_camera\"],\n",
    "                        white_var=white_percent,black_var=black_percent,mean_age_var=mean_age,max_state_var=max_state,\n",
    "                        max_count_var=max_count,ratio_age_var=ratio_age,vic_var=synset_vicinity,att_var=synset_attack)\n",
    "\n",
    "\n",
    "df = pd.read_csv(\"Datasets/fatal-police-shootings-2015-16.csv\")\n",
    "\n",
    "synset_vicinity = [\"vicinity\", \"neighborhood\", \"locality\"]\n",
    "synset_attack = [\"attacked\",\"assaulted\",]\n",
    "\n",
    "\n",
    "row_num = 3 # change this value to test with a different row of data\n",
    "row_as_dict = df.iloc[row_num].to_dict()\n",
    "\n",
    "story_str=write_story(row_as_dict)\n",
    "\n",
    "print story_str\n",
    "\n",
    "with open(\"temp2.txt\",\"w\") as f:\n",
    "      f.write(story_str)"
   ]
  }
 ],
 "metadata": {
  "anaconda-cloud": {},
  "kernelspec": {
   "display_name": "Python [default]",
   "language": "python",
   "name": "python2"
  },
  "language_info": {
   "codemirror_mode": {
    "name": "ipython",
    "version": 2
   },
   "file_extension": ".py",
   "mimetype": "text/x-python",
   "name": "python",
   "nbconvert_exporter": "python",
   "pygments_lexer": "ipython2",
   "version": "2.7.12"
  }
 },
 "nbformat": 4,
 "nbformat_minor": 0
}
